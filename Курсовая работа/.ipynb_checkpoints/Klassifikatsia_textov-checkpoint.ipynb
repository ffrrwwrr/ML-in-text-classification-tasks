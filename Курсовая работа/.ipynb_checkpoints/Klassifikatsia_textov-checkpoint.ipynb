{
 "cells": [
  {
   "cell_type": "markdown",
   "metadata": {
    "id": "E9BgtbAfoQa3"
   },
   "source": [
    "## Модули"
   ]
  },
  {
   "cell_type": "code",
   "execution_count": 1,
   "metadata": {
    "id": "wY94wHeHoZ7T"
   },
   "outputs": [],
   "source": [
    "from sklearn.datasets import fetch_20newsgroups\n",
    "from sklearn.preprocessing import label_binarize\n",
    "from sklearn.model_selection import train_test_split\n",
    "from sklearn.feature_extraction.text import CountVectorizer\n",
    "from sklearn.linear_model import LogisticRegression\n",
    "from sklearn.neighbors import KNeighborsClassifier\n",
    "from sklearn.ensemble import RandomForestClassifier\n",
    "from sklearn.tree import DecisionTreeClassifier\n",
    "from sklearn.neural_network import MLPClassifier\n",
    "from sklearn.naive_bayes import MultinomialNB\n",
    "from sklearn.svm import SVC\n",
    "from sklearn import metrics\n",
    "from sklearn.metrics import roc_curve, auc\n",
    "from sklearn.metrics import roc_auc_score\n",
    "from matplotlib import pyplot as plt\n",
    "from collections import Counter\n",
    "from itertools import cycle\n",
    "import seaborn as sns\n",
    "import numpy as np\n",
    "import time\n",
    "import warnings\n",
    "warnings.simplefilter(\"ignore\")"
   ]
  },
  {
   "cell_type": "markdown",
   "metadata": {
    "id": "WX5zRIKvoZes"
   },
   "source": [
    "# Методичка"
   ]
  },
  {
   "cell_type": "markdown",
   "metadata": {
    "id": "zZt8CwumitxL"
   },
   "source": [
    "## Загрузка датасета"
   ]
  },
  {
   "cell_type": "code",
   "execution_count": 2,
   "metadata": {
    "id": "8E7aquU-UmPN"
   },
   "outputs": [],
   "source": [
    "# Обучающая выборка\n",
    "newsgroups_train = fetch_20newsgroups(subset='train', remove=('headers', 'footers', 'quotes'))\n",
    "# Тестовая выборка\n",
    "newsgroups_test = fetch_20newsgroups(subset='test', remove=('headers', 'footers', 'quotes'))"
   ]
  },
  {
   "cell_type": "markdown",
   "metadata": {
    "id": "0-dTsn0gi24l"
   },
   "source": [
    "## Исследование данных"
   ]
  },
  {
   "cell_type": "code",
   "execution_count": 3,
   "metadata": {
    "colab": {
     "base_uri": "https://localhost:8080/"
    },
    "id": "PIbsZZ5qUaz9",
    "outputId": "d18144ee-6680-495a-f7e9-3a6a71f96153"
   },
   "outputs": [
    {
     "name": "stdout",
     "output_type": "stream",
     "text": [
      ".. _20newsgroups_dataset:\n",
      "\n",
      "The 20 newsgroups text dataset\n",
      "------------------------------\n",
      "\n",
      "The 20 newsgroups dataset comprises around 18000 newsgroups posts on\n",
      "20 topics split in two subsets: one for training (or development)\n",
      "and the other one for testing (or for performance evaluation). The split\n",
      "between the train and test set is based upon a messages posted before\n",
      "and after a specific date.\n",
      "\n",
      "This module contains two loaders. The first one,\n",
      ":func:`sklearn.datasets.fetch_20newsgroups`,\n",
      "returns a list of the raw texts that can be fed to text feature\n",
      "extractors such as :class:`~sklearn.feature_extraction.text.CountVectorizer`\n",
      "with custom parameters so as to extract feature vectors.\n",
      "The second one, :func:`sklearn.datasets.fetch_20newsgroups_vectorized`,\n",
      "returns ready-to-use features, i.e., it is not necessary to use a feature\n",
      "extractor.\n",
      "\n",
      "**Data Set Characteristics:**\n",
      "\n",
      "    =================   ==========\n",
      "    Classes                     20\n",
      "    Samples total            18846\n",
      "    Dimensionality               1\n",
      "    Features                  text\n",
      "    =================   ==========\n",
      "\n",
      "Usage\n",
      "~~~~~\n",
      "\n",
      "The :func:`sklearn.datasets.fetch_20newsgroups` function is a data\n",
      "fetching / caching functions that downloads the data archive from\n",
      "the original `20 newsgroups website`_, extracts the archive contents\n",
      "in the ``~/scikit_learn_data/20news_home`` folder and calls the\n",
      ":func:`sklearn.datasets.load_files` on either the training or\n",
      "testing set folder, or both of them::\n",
      "\n",
      "  >>> from sklearn.datasets import fetch_20newsgroups\n",
      "  >>> newsgroups_train = fetch_20newsgroups(subset='train')\n",
      "\n",
      "  >>> from pprint import pprint\n",
      "  >>> pprint(list(newsgroups_train.target_names))\n",
      "  ['alt.atheism',\n",
      "   'comp.graphics',\n",
      "   'comp.os.ms-windows.misc',\n",
      "   'comp.sys.ibm.pc.hardware',\n",
      "   'comp.sys.mac.hardware',\n",
      "   'comp.windows.x',\n",
      "   'misc.forsale',\n",
      "   'rec.autos',\n",
      "   'rec.motorcycles',\n",
      "   'rec.sport.baseball',\n",
      "   'rec.sport.hockey',\n",
      "   'sci.crypt',\n",
      "   'sci.electronics',\n",
      "   'sci.med',\n",
      "   'sci.space',\n",
      "   'soc.religion.christian',\n",
      "   'talk.politics.guns',\n",
      "   'talk.politics.mideast',\n",
      "   'talk.politics.misc',\n",
      "   'talk.religion.misc']\n",
      "\n",
      "The real data lies in the ``filenames`` and ``target`` attributes. The target\n",
      "attribute is the integer index of the category::\n",
      "\n",
      "  >>> newsgroups_train.filenames.shape\n",
      "  (11314,)\n",
      "  >>> newsgroups_train.target.shape\n",
      "  (11314,)\n",
      "  >>> newsgroups_train.target[:10]\n",
      "  array([ 7,  4,  4,  1, 14, 16, 13,  3,  2,  4])\n",
      "\n",
      "It is possible to load only a sub-selection of the categories by passing the\n",
      "list of the categories to load to the\n",
      ":func:`sklearn.datasets.fetch_20newsgroups` function::\n",
      "\n",
      "  >>> cats = ['alt.atheism', 'sci.space']\n",
      "  >>> newsgroups_train = fetch_20newsgroups(subset='train', categories=cats)\n",
      "\n",
      "  >>> list(newsgroups_train.target_names)\n",
      "  ['alt.atheism', 'sci.space']\n",
      "  >>> newsgroups_train.filenames.shape\n",
      "  (1073,)\n",
      "  >>> newsgroups_train.target.shape\n",
      "  (1073,)\n",
      "  >>> newsgroups_train.target[:10]\n",
      "  array([0, 1, 1, 1, 0, 1, 1, 0, 0, 0])\n",
      "\n",
      "Converting text to vectors\n",
      "~~~~~~~~~~~~~~~~~~~~~~~~~~\n",
      "\n",
      "In order to feed predictive or clustering models with the text data,\n",
      "one first need to turn the text into vectors of numerical values suitable\n",
      "for statistical analysis. This can be achieved with the utilities of the\n",
      "``sklearn.feature_extraction.text`` as demonstrated in the following\n",
      "example that extract `TF-IDF`_ vectors of unigram tokens\n",
      "from a subset of 20news::\n",
      "\n",
      "  >>> from sklearn.feature_extraction.text import TfidfVectorizer\n",
      "  >>> categories = ['alt.atheism', 'talk.religion.misc',\n",
      "  ...               'comp.graphics', 'sci.space']\n",
      "  >>> newsgroups_train = fetch_20newsgroups(subset='train',\n",
      "  ...                                       categories=categories)\n",
      "  >>> vectorizer = TfidfVectorizer()\n",
      "  >>> vectors = vectorizer.fit_transform(newsgroups_train.data)\n",
      "  >>> vectors.shape\n",
      "  (2034, 34118)\n",
      "\n",
      "The extracted TF-IDF vectors are very sparse, with an average of 159 non-zero\n",
      "components by sample in a more than 30000-dimensional space\n",
      "(less than .5% non-zero features)::\n",
      "\n",
      "  >>> vectors.nnz / float(vectors.shape[0])\n",
      "  159.01327...\n",
      "\n",
      ":func:`sklearn.datasets.fetch_20newsgroups_vectorized` is a function which \n",
      "returns ready-to-use token counts features instead of file names.\n",
      "\n",
      ".. _`20 newsgroups website`: http://people.csail.mit.edu/jrennie/20Newsgroups/\n",
      ".. _`TF-IDF`: https://en.wikipedia.org/wiki/Tf-idf\n",
      "\n",
      "\n",
      "Filtering text for more realistic training\n",
      "~~~~~~~~~~~~~~~~~~~~~~~~~~~~~~~~~~~~~~~~~~\n",
      "\n",
      "It is easy for a classifier to overfit on particular things that appear in the\n",
      "20 Newsgroups data, such as newsgroup headers. Many classifiers achieve very\n",
      "high F-scores, but their results would not generalize to other documents that\n",
      "aren't from this window of time.\n",
      "\n",
      "For example, let's look at the results of a multinomial Naive Bayes classifier,\n",
      "which is fast to train and achieves a decent F-score::\n",
      "\n",
      "  >>> from sklearn.naive_bayes import MultinomialNB\n",
      "  >>> from sklearn import metrics\n",
      "  >>> newsgroups_test = fetch_20newsgroups(subset='test',\n",
      "  ...                                      categories=categories)\n",
      "  >>> vectors_test = vectorizer.transform(newsgroups_test.data)\n",
      "  >>> clf = MultinomialNB(alpha=.01)\n",
      "  >>> clf.fit(vectors, newsgroups_train.target)\n",
      "  MultinomialNB(alpha=0.01, class_prior=None, fit_prior=True)\n",
      "\n",
      "  >>> pred = clf.predict(vectors_test)\n",
      "  >>> metrics.f1_score(newsgroups_test.target, pred, average='macro')\n",
      "  0.88213...\n",
      "\n",
      "(The example :ref:`sphx_glr_auto_examples_text_plot_document_classification_20newsgroups.py` shuffles\n",
      "the training and test data, instead of segmenting by time, and in that case\n",
      "multinomial Naive Bayes gets a much higher F-score of 0.88. Are you suspicious\n",
      "yet of what's going on inside this classifier?)\n",
      "\n",
      "Let's take a look at what the most informative features are:\n",
      "\n",
      "  >>> import numpy as np\n",
      "  >>> def show_top10(classifier, vectorizer, categories):\n",
      "  ...     feature_names = np.asarray(vectorizer.get_feature_names())\n",
      "  ...     for i, category in enumerate(categories):\n",
      "  ...         top10 = np.argsort(classifier.coef_[i])[-10:]\n",
      "  ...         print(\"%s: %s\" % (category, \" \".join(feature_names[top10])))\n",
      "  ...\n",
      "  >>> show_top10(clf, vectorizer, newsgroups_train.target_names)\n",
      "  alt.atheism: edu it and in you that is of to the\n",
      "  comp.graphics: edu in graphics it is for and of to the\n",
      "  sci.space: edu it that is in and space to of the\n",
      "  talk.religion.misc: not it you in is that and to of the\n",
      "\n",
      "\n",
      "You can now see many things that these features have overfit to:\n",
      "\n",
      "- Almost every group is distinguished by whether headers such as\n",
      "  ``NNTP-Posting-Host:`` and ``Distribution:`` appear more or less often.\n",
      "- Another significant feature involves whether the sender is affiliated with\n",
      "  a university, as indicated either by their headers or their signature.\n",
      "- The word \"article\" is a significant feature, based on how often people quote\n",
      "  previous posts like this: \"In article [article ID], [name] <[e-mail address]>\n",
      "  wrote:\"\n",
      "- Other features match the names and e-mail addresses of particular people who\n",
      "  were posting at the time.\n",
      "\n",
      "With such an abundance of clues that distinguish newsgroups, the classifiers\n",
      "barely have to identify topics from text at all, and they all perform at the\n",
      "same high level.\n",
      "\n",
      "For this reason, the functions that load 20 Newsgroups data provide a\n",
      "parameter called **remove**, telling it what kinds of information to strip out\n",
      "of each file. **remove** should be a tuple containing any subset of\n",
      "``('headers', 'footers', 'quotes')``, telling it to remove headers, signature\n",
      "blocks, and quotation blocks respectively.\n",
      "\n",
      "  >>> newsgroups_test = fetch_20newsgroups(subset='test',\n",
      "  ...                                      remove=('headers', 'footers', 'quotes'),\n",
      "  ...                                      categories=categories)\n",
      "  >>> vectors_test = vectorizer.transform(newsgroups_test.data)\n",
      "  >>> pred = clf.predict(vectors_test)\n",
      "  >>> metrics.f1_score(pred, newsgroups_test.target, average='macro')\n",
      "  0.77310...\n",
      "\n",
      "This classifier lost over a lot of its F-score, just because we removed\n",
      "metadata that has little to do with topic classification.\n",
      "It loses even more if we also strip this metadata from the training data:\n",
      "\n",
      "  >>> newsgroups_train = fetch_20newsgroups(subset='train',\n",
      "  ...                                       remove=('headers', 'footers', 'quotes'),\n",
      "  ...                                       categories=categories)\n",
      "  >>> vectors = vectorizer.fit_transform(newsgroups_train.data)\n",
      "  >>> clf = MultinomialNB(alpha=.01)\n",
      "  >>> clf.fit(vectors, newsgroups_train.target)\n",
      "  MultinomialNB(alpha=0.01, class_prior=None, fit_prior=True)\n",
      "\n",
      "  >>> vectors_test = vectorizer.transform(newsgroups_test.data)\n",
      "  >>> pred = clf.predict(vectors_test)\n",
      "  >>> metrics.f1_score(newsgroups_test.target, pred, average='macro')\n",
      "  0.76995...\n",
      "\n",
      "Some other classifiers cope better with this harder version of the task. Try\n",
      "running :ref:`sphx_glr_auto_examples_model_selection_grid_search_text_feature_extraction.py` with and without\n",
      "the ``--filter`` option to compare the results.\n",
      "\n",
      ".. topic:: Recommendation\n",
      "\n",
      "  When evaluating text classifiers on the 20 Newsgroups data, you\n",
      "  should strip newsgroup-related metadata. In scikit-learn, you can do this by\n",
      "  setting ``remove=('headers', 'footers', 'quotes')``. The F-score will be\n",
      "  lower because it is more realistic.\n",
      "\n",
      ".. topic:: Examples\n",
      "\n",
      "   * :ref:`sphx_glr_auto_examples_model_selection_grid_search_text_feature_extraction.py`\n",
      "\n",
      "   * :ref:`sphx_glr_auto_examples_text_plot_document_classification_20newsgroups.py`\n",
      "\n"
     ]
    }
   ],
   "source": [
    "print(newsgroups_train.DESCR)"
   ]
  },
  {
   "cell_type": "code",
   "execution_count": 4,
   "metadata": {
    "colab": {
     "base_uri": "https://localhost:8080/"
    },
    "id": "qmblc__7Vdj3",
    "outputId": "6bad3722-4d0e-4e51-9939-20a06bb427ff"
   },
   "outputs": [
    {
     "name": "stdout",
     "output_type": "stream",
     "text": [
      "Группа: 7\n",
      "Данные: I was wondering if anyone out there could enlighten me on this car I saw\n",
      "the other day. It was a 2-door sports car, looked to be from the late 60s/\n",
      "early 70s. It was called a Bricklin. The doors were really small. In addition,\n",
      "the front bumper was separate from the rest of the body. This is \n",
      "all I know. If anyone can tellme a model name, engine specs, years\n",
      "of production, where this car is made, history, or whatever info you\n",
      "have on this funky looking car, please e-mail.\n"
     ]
    }
   ],
   "source": [
    "print(\"Группа:\", newsgroups_train.target[0])\n",
    "print(\"Данные:\", newsgroups_train.data[0])"
   ]
  },
  {
   "cell_type": "code",
   "execution_count": 5,
   "metadata": {
    "colab": {
     "base_uri": "https://localhost:8080/",
     "height": 469
    },
    "id": "X5VIfqrTy5RS",
    "outputId": "875b0301-0b07-4349-bddc-e737f2f38b75"
   },
   "outputs": [
    {
     "name": "stdout",
     "output_type": "stream",
     "text": [
      "Описательный анализ. Выборка train target\n",
      "Массив: [7 4 4 ... 3 1 8]\n",
      "Размер: 11314\n",
      "Минимум: 0\n",
      "Максимум: 19\n",
      "Средняя: 9.29299982322786\n",
      "Медиана: 9.0\n",
      "Диапазон: 19\n",
      "Дисперсия: 30.941108855046814\n",
      "Стандартное отклонение = 5.562473267805142\n"
     ]
    },
    {
     "data": {
      "image/png": "[encoded data removed]",
      "text/plain": [
       "<Figure size 432x288 with 1 Axes>"
      ]
     },
     "metadata": {
      "needs_background": "light"
     },
     "output_type": "display_data"
    }
   ],
   "source": [
    "arr = newsgroups_train.target\n",
    "size = len(arr)\n",
    "mean = np.mean(arr)\n",
    "median = np.median(arr)\n",
    "min = np.amin(arr)\n",
    "max = np.amax(arr)\n",
    "rng = np.ptp(arr)\n",
    "var = np.var(arr)\n",
    "std = np.std(arr)\n",
    "\n",
    "print(\"Описательный анализ. Выборка train target\")\n",
    "print(\"Массив:\", arr)\n",
    "print(\"Размер:\", size)\n",
    "print(\"Минимум:\", min)\n",
    "print(\"Максимум:\", max)\n",
    "print(\"Средняя:\", mean)\n",
    "print(\"Медиана:\", median)\n",
    "print(\"Диапазон:\", rng)\n",
    "print(\"Дисперсия:\", var)\n",
    "print(\"Стандартное отклонение =\", std)\n",
    "\n",
    "counter = Counter(arr)\n",
    "groups, counts = list(counter.keys()), list(counter.values())\n",
    "indexes = range(len(groups))\n",
    "plt.bar(indexes, counts, align=\"center\")\n",
    "plt.xticks(indexes, groups)\n",
    "plt.title(\"Гистограмма распределения частот. Выборка train target\")\n",
    "plt.ylabel(\"Группа train target\")\n",
    "plt.xlabel(\"Кол-во в выборке\")\n",
    "plt.show()"
   ]
  },
  {
   "cell_type": "markdown",
   "metadata": {
    "id": "nxtsBiVbjTMG"
   },
   "source": [
    "## Векторизация текста"
   ]
  },
  {
   "cell_type": "code",
   "execution_count": 6,
   "metadata": {
    "id": "C5AaOW3qVY2R"
   },
   "outputs": [],
   "source": [
    "vectorizer = CountVectorizer()\n",
    "vectors_train = vectorizer.fit_transform(newsgroups_train.data)\n",
    "vectors_test = vectorizer.transform(newsgroups_test.data)"
   ]
  },
  {
   "cell_type": "markdown",
   "metadata": {
    "id": "5uGBGvqfjaOK"
   },
   "source": [
    "## Модели классификауции"
   ]
  },
  {
   "cell_type": "code",
   "execution_count": 7,
   "metadata": {
    "id": "a0FjnVpxns1b"
   },
   "outputs": [],
   "source": [
    "def process(cls):\n",
    "  sizes = [100, 500, 1000, 5000, 10000]\n",
    "  Ts, As, Ps, Rs, Fs = [], [], [], [], []\n",
    "  for S in sizes:\n",
    "    start = time.time()\n",
    "    cls.fit(vectors_train[:S], newsgroups_train.target[:S])\n",
    "    end = time.time()\n",
    "    T = round(end - start, 2)\n",
    "    pred = cls.predict(vectors_test)\n",
    "    A = metrics.accuracy_score(newsgroups_test.target, pred)\n",
    "    P = metrics.precision_score(newsgroups_test.target, pred, average=\"macro\")\n",
    "    R = metrics.recall_score(newsgroups_test.target, pred, average=\"macro\")\n",
    "    F =  metrics.f1_score(newsgroups_test.target, pred, average=\"macro\")\n",
    "    print(\"Размер выборки:\", S, \"элементов\")\n",
    "    print(\"Время обучения:\", T, \"секунд\")\n",
    "    print(\"Accuracy метрика:\", A)\n",
    "    print(\"Precision метрика:\", P)\n",
    "    print(\"Recall метрика:\", R)\n",
    "    print(\"F1 метрика:\", F)\n",
    "    print()\n",
    "    Ts.append(T)\n",
    "    As.append(A)\n",
    "    Ps.append(P)\n",
    "    Rs.append(R)\n",
    "    Fs.append(F)\n",
    "\n",
    "  plt.plot(sizes, Ts, label=\"Время обучения\")\n",
    "  plt.title(\"Кривая обучения. Для всех размеров выборки\")\n",
    "  plt.ylabel(\"Полученные значения\")\n",
    "  plt.xlabel(\"Размер выборки\")\n",
    "  plt.legend()\n",
    "  plt.show()\n",
    "\n",
    "  plt.plot(sizes, As, label=\"Accuracy метрика\")\n",
    "  plt.plot(sizes, Ps, label=\"Precision метрика\")\n",
    "  plt.plot(sizes, Rs, label=\"Recall метрика\")\n",
    "  plt.plot(sizes, Fs, label=\"F1 метрика\")\n",
    "  plt.title(\"Кривая обучения. Для всех размеров выборки\")\n",
    "  plt.ylabel(\"Полученные значения\")\n",
    "  plt.xlabel(\"Размер выборки\")\n",
    "  plt.legend()\n",
    "  plt.show()\n",
    "\n",
    "  sns.heatmap(metrics.confusion_matrix(newsgroups_test.target, pred), annot=True)\n",
    "  plt.title(\"Матрица ошибок. Размер выборки 10000\")\n",
    "  plt.ylabel(\"Действительные значения\")\n",
    "  plt.xlabel(\"Предсказанные значения\")\n",
    "  plt.show()"
   ]
  },
  {
   "cell_type": "markdown",
   "metadata": {
    "id": "jXBQn5TJdSHE"
   },
   "source": [
    "### Логистическая регрессия (LogisticRegression)"
   ]
  },
  {
   "cell_type": "code",
   "execution_count": null,
   "metadata": {
    "colab": {
     "base_uri": "https://localhost:8080/",
     "height": 1000
    },
    "id": "YH8AD9MeWXTK",
    "outputId": "93b167d0-7a4d-49fe-b397-2031c74270fb"
   },
   "outputs": [],
   "source": [
    "process(cls = LogisticRegression())"
   ]
  },
  {
   "cell_type": "markdown",
   "metadata": {
    "id": "mos4Sm1-dySf"
   },
   "source": [
    "### Метод опорных векторов с линейным ядром (SVC)"
   ]
  },
  {
   "cell_type": "code",
   "execution_count": null,
   "metadata": {
    "colab": {
     "base_uri": "https://localhost:8080/",
     "height": 1000
    },
    "id": "Q3S-q7TzdySn",
    "outputId": "d0d73786-95d6-49c9-83a5-c00df230022d"
   },
   "outputs": [],
   "source": [
    "process(cls = SVC(kernel='linear'))"
   ]
  },
  {
   "cell_type": "markdown",
   "metadata": {
    "id": "fMSHTlFhd-55"
   },
   "source": [
    "### Метод опорных векторов с гауссовым ядром (SVC)"
   ]
  },
  {
   "cell_type": "code",
   "execution_count": null,
   "metadata": {
    "colab": {
     "base_uri": "https://localhost:8080/",
     "height": 1000
    },
    "id": "WoA_i9C5d-58",
    "outputId": "292686d1-9037-43c3-ac20-f1f061a368f9"
   },
   "outputs": [],
   "source": [
    "process(cls = SVC(kernel='rbf'))"
   ]
  },
  {
   "cell_type": "markdown",
   "metadata": {
    "id": "Qs7pEmm0d_Jx"
   },
   "source": [
    "### Метод k ближайших соседей (KNeighborsClassifier)"
   ]
  },
  {
   "cell_type": "code",
   "execution_count": null,
   "metadata": {
    "colab": {
     "base_uri": "https://localhost:8080/",
     "height": 1000
    },
    "id": "t-4mVL_Xd_Jy",
    "outputId": "513850e3-bfa7-4ac0-fe69-d254fe4dd175"
   },
   "outputs": [],
   "source": [
    "process(cls = KNeighborsClassifier())"
   ]
  },
  {
   "cell_type": "markdown",
   "metadata": {
    "id": "bjHYM3qVd_YM"
   },
   "source": [
    "### Многослойный перцептрон (MLPClassifier)"
   ]
  },
  {
   "cell_type": "code",
   "execution_count": null,
   "metadata": {
    "colab": {
     "base_uri": "https://localhost:8080/",
     "height": 1000
    },
    "id": "qYcvC100gD-G",
    "outputId": "94a29eab-d719-46d3-f31d-f34b0e046d7d"
   },
   "outputs": [],
   "source": [
    "process(cls = MLPClassifier()) # Остановлен принудительно, иначе ждать часами и колаб вылетит"
   ]
  },
  {
   "cell_type": "markdown",
   "metadata": {
    "id": "2Z6VAdaAxLXL"
   },
   "source": [
    "### Логистическая регрессия (LogisticRegression)"
   ]
  },
  {
   "cell_type": "code",
   "execution_count": null,
   "metadata": {
    "colab": {
     "base_uri": "https://localhost:8080/",
     "height": 1000
    },
    "id": "0Uxm5Sbyxg7l",
    "outputId": "a2e62699-407d-43e1-dff9-2541b0303b41"
   },
   "outputs": [],
   "source": [
    "process(cls = LogisticRegression())"
   ]
  },
  {
   "cell_type": "markdown",
   "metadata": {
    "id": "aISfbDe6yG-n"
   },
   "source": [
    "### Классификатор дерева решений (DecisionTreeClassifier)"
   ]
  },
  {
   "cell_type": "code",
   "execution_count": null,
   "metadata": {
    "colab": {
     "base_uri": "https://localhost:8080/",
     "height": 1000
    },
    "id": "NA1Pp2gHxL5H",
    "outputId": "1aaaf9c3-dd90-4fd0-8507-53e2c3da6d44"
   },
   "outputs": [],
   "source": [
    "process(cls = DecisionTreeClassifier())"
   ]
  },
  {
   "cell_type": "markdown",
   "metadata": {
    "id": "gFmheGBAyNuC"
   },
   "source": [
    "### Классификатор случайный лес (RandomForestClassifier)"
   ]
  },
  {
   "cell_type": "code",
   "execution_count": null,
   "metadata": {
    "colab": {
     "base_uri": "https://localhost:8080/",
     "height": 1000
    },
    "id": "gdBuRZEwxRdd",
    "outputId": "6934158a-5715-4912-b3d5-6a52cc3c0adb"
   },
   "outputs": [],
   "source": [
    "process(cls = RandomForestClassifier(max_depth=2))"
   ]
  },
  {
   "cell_type": "markdown",
   "metadata": {
    "id": "w4Wm-ZRjkM7l"
   },
   "source": [
    "### Наивный байесовский метод (MultinomialNB)"
   ]
  },
  {
   "cell_type": "code",
   "execution_count": null,
   "metadata": {
    "colab": {
     "base_uri": "https://localhost:8080/",
     "height": 1000
    },
    "id": "nU8xlCJNVCjz",
    "outputId": "a0c7795f-8ecb-4b92-919d-697bbb10533f"
   },
   "outputs": [],
   "source": [
    "process(cls = MultinomialNB(alpha=.01))"
   ]
  },
  {
   "cell_type": "markdown",
   "metadata": {
    "id": "l0p0d_UagVU0"
   },
   "source": [
    "## Выводы о моделях"
   ]
  },
  {
   "cell_type": "markdown",
   "metadata": {
    "id": "B9RssrFqga5Q"
   },
   "source": [
    "Наиболее хорошо себя показали модели: \n",
    "* Наивный байесовский метод (MultinomialNB)\n",
    "* Логистическая регрессия (LogisticRegression)\n",
    "* Многослойный перцептрон (MLPClassifier)\n",
    "\n",
    "Самая быстрая и точная модель:\n",
    "* Наивный байесовский метод (MultinomialNB)\n",
    "\n",
    "Модель с самым долгим обучением:\n",
    "* Многослойный перцептрон (MLPClassifier)"
   ]
  }
 ],
 "metadata": {
  "colab": {
   "name": "Alekseev_Leonid_Классификация текстов.ipynb",
   "provenance": [],
   "toc_visible": true
  },
  "kernelspec": {
   "display_name": "Python 3",
   "language": "python",
   "name": "python3"
  },
  "language_info": {
   "codemirror_mode": {
    "name": "ipython",
    "version": 3
   },
   "file_extension": ".py",
   "mimetype": "text/x-python",
   "name": "python",
   "nbconvert_exporter": "python",
   "pygments_lexer": "ipython3",
   "version": "3.8.8"
  }
 },
 "nbformat": 4,
 "nbformat_minor": 1
}
